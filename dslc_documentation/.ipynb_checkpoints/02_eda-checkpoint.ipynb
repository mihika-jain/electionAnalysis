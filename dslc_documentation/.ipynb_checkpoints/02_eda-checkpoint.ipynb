{
 "cells": [
  {
   "cell_type": "markdown",
   "metadata": {},
   "source": [
    "# Exploring the NHANES diabetes data\n",
    "\n",
    "[DSLC stages]: EDA\n",
    "\n",
    "\n",
    "You can conduct an EDA of the NHANES diabetes dataset in this document."
   ]
  },
  {
   "cell_type": "code",
   "execution_count": 5,
   "metadata": {},
   "outputs": [],
   "source": [
    "import pandas as pd\n",
    "import numpy as np\n",
    "\n",
    "# Load the datasets from CSV files\n",
    "train_data = pd.read_csv('train_data.csv')\n",
    "val_data = pd.read_csv('val_data.csv')\n",
    "test_data = pd.read_csv('test_data.csv')\n",
    "\n",
    "data_States = pd.read_csv('data_States.csv')\n",
    "data_register = pd.read_csv('data_register.csv')\n",
    "data_income = pd.read_csv('data_income.csv')\n",
    "data_noVote = pd.read_csv('data_noVote.csv')"
   ]
  },
  {
   "cell_type": "code",
   "execution_count": 7,
   "metadata": {},
   "outputs": [
    {
     "name": "stdout",
     "output_type": "stream",
     "text": [
      "Significant Changes from Pre to Post:\n",
      "                      Variable   PRE_Mean  POST_Mean Test_Type  T_Statistic  \\\n",
      "0                  ThermoBiden  49.034334  51.146308    t-test    -7.706926   \n",
      "1                  ThermoTrump  40.677191  39.789337    t-test     3.522874   \n",
      "2                 ThermoHarris  47.809179  49.418219    t-test    -5.677093   \n",
      "3                  ThermoPence  44.386301  47.277778    t-test   -10.487091   \n",
      "4                 VoteAccuracy   3.074189   2.292616    t-test    31.804574   \n",
      "5   VotePresident_Donald Trump   0.449620   0.493789    t-test    -9.535147   \n",
      "6   VotePresident_Jo Jorgensen   0.030711   0.010870    t-test     8.699439   \n",
      "7  VotePresident_Howie Hawkins   0.007246   0.002588    t-test     4.030211   \n",
      "\n",
      "         P_Value  \n",
      "0   1.506775e-14  \n",
      "1   4.301856e-04  \n",
      "2   1.436510e-08  \n",
      "3   1.673482e-25  \n",
      "4  9.521637e-205  \n",
      "5   2.146756e-21  \n",
      "6   4.288633e-18  \n",
      "7   5.644072e-05  \n"
     ]
    }
   ],
   "source": [
    "from scipy.stats import ttest_rel, wilcoxon\n",
    "# Separate PRE and POST columns\n",
    "pre_columns = [col for col in train_data.columns if col.startswith(\"PRE_\")]\n",
    "post_columns = [col for col in train_data.columns if col.startswith(\"POST_\")]\n",
    "\n",
    "# Match PRE and POST columns (ignoring \"PRE_\" and \"POST_\" prefixes)\n",
    "pre_post_pairs = {\n",
    "    pre: pre.replace(\"PRE_\", \"POST_\") for pre in pre_columns if pre.replace(\"PRE_\", \"POST_\") in post_columns\n",
    "}\n",
    "\n",
    "# Prepare a DataFrame to store test results\n",
    "results = []\n",
    "\n",
    "# Compare each PRE-POST pair\n",
    "for pre_col, post_col in pre_post_pairs.items():\n",
    "    pre_data = train_data[pre_col].dropna()\n",
    "    post_data = train_data[post_col].dropna()\n",
    "    \n",
    "    # Ensure equal length for paired testing\n",
    "    paired_data = pd.DataFrame({\"pre\": pre_data, \"post\": post_data}).dropna()\n",
    "    pre_values = paired_data[\"pre\"].astype(float)  # Convert to numeric type\n",
    "    post_values = paired_data[\"post\"].astype(float)  # Convert to numeric type\n",
    "    \n",
    "    # Perform paired t-test (use Wilcoxon if data is non-normal)\n",
    "    try:\n",
    "        t_stat, p_value = ttest_rel(pre_values, post_values)\n",
    "        test_type = \"t-test\"\n",
    "    except ValueError:\n",
    "        t_stat, p_value = wilcoxon(pre_values, post_values)\n",
    "        test_type = \"Wilcoxon\"\n",
    "    \n",
    "    # Store results\n",
    "    results.append({\n",
    "        \"Variable\": pre_col.replace(\"PRE_\", \"\"),\n",
    "        \"PRE_Mean\": pre_values.mean(),\n",
    "        \"POST_Mean\": post_values.mean(),\n",
    "        \"Test_Type\": test_type,\n",
    "        \"T_Statistic\": t_stat,\n",
    "        \"P_Value\": p_value\n",
    "    })\n",
    "\n",
    "# Convert results to a DataFrame\n",
    "comparison_results = pd.DataFrame(results)\n",
    "\n",
    "# Display significant changes (p-value < 0.05)\n",
    "significant_changes = comparison_results[comparison_results[\"P_Value\"] < 0.05]\n",
    "\n",
    "print(\"Significant Changes from Pre to Post:\")\n",
    "print(significant_changes)"
   ]
  }
 ],
 "metadata": {
  "hide_input": false,
  "kernelspec": {
   "display_name": "Python 3 (ipykernel)",
   "language": "python",
   "name": "python3"
  },
  "language_info": {
   "codemirror_mode": {
    "name": "ipython",
    "version": 3
   },
   "file_extension": ".py",
   "mimetype": "text/x-python",
   "name": "python",
   "nbconvert_exporter": "python",
   "pygments_lexer": "ipython3",
   "version": "3.12.3"
  }
 },
 "nbformat": 4,
 "nbformat_minor": 2
}
